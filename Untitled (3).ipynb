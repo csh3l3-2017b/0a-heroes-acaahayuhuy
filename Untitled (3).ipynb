{
 "cells": [
  {
   "cell_type": "code",
   "execution_count": 51,
   "metadata": {
    "collapsed": true
   },
   "outputs": [],
   "source": [
    "import pandas as pd\n",
    "a = pd.read_csv(\"test.csv\")"
   ]
  },
  {
   "cell_type": "markdown",
   "metadata": {},
   "source": [
    "Membaca file csv menggunakan modul pandas.\n",
    "File CSV yang telah didownload, lokasi tempatnya disatukan dengan jupyter notebook agar dapat dibaca."
   ]
  },
  {
   "cell_type": "code",
   "execution_count": 52,
   "metadata": {
    "collapsed": true
   },
   "outputs": [],
   "source": [
    "a1 = []"
   ]
  },
  {
   "cell_type": "markdown",
   "metadata": {},
   "source": [
    "Membuat array a1 untuk menyimpan peran heroes."
   ]
  },
  {
   "cell_type": "code",
   "execution_count": 53,
   "metadata": {},
   "outputs": [],
   "source": [
    "\n",
    "for i in range (len(a)) :\n",
    "    if a[\"movementSpeed\"][i] >= 270:\n",
    "        a1.append(\"MARKSMAN\")\n",
    "    elif a[\"mana\"][i] >= 500:\n",
    "        a1.append(\"MAGE\")\n",
    "    elif a[\"armor\"][i] >= 25:\n",
    "        a1.append(\"TANK\")\n",
    "    elif a[\"physicalAttack\"][i] >= 121:\n",
    "        a1.append(\"ASSASSIN\")\n",
    "    elif a[\"hp\"][i] >= 2580:\n",
    "        a1.append(\"FIGHTER\")\n",
    "    else :\n",
    "        a1.append(\"SUPPORT\")"
   ]
  },
  {
   "cell_type": "markdown",
   "metadata": {},
   "source": [
    "Perulangan peran hero untuk dimasukkan ke dalam array.\n",
    "Heroes yang memiliki movementSpeed >= 270, akan mendapat peran sebagai MARKSMAN (huruf kapital semua),\n",
    "Heroes dengan mana >= 500, akan mendapat peran sebagai MAGE (huruf kapital semua),\n",
    "Heroes dengan armor >= 25, akan mendapat peran sebagai TANK (huruf kapital semua),\n",
    "Heroes dengan physicalAttack >= 121, akan mendapat peran sebagai ASSASSIN (huruf kapital semua),\n",
    "Heroes dengan hp >= 2580, akan mendapat peran sebagai FIGHTER (huruf kapital semua),\n",
    "Heroes lainnya akan mendapat peran sebagai SUPPORT (huruf kapital semua)."
   ]
  },
  {
   "cell_type": "code",
   "execution_count": 54,
   "metadata": {},
   "outputs": [],
   "source": [
    "a2 = pd.DataFrame({\"name\" : a[\"name\"], \"role\" : a1})"
   ]
  },
  {
   "cell_type": "markdown",
   "metadata": {},
   "source": [
    "menyimpan nama dan peran heroes pada variabel a2."
   ]
  },
  {
   "cell_type": "code",
   "execution_count": 55,
   "metadata": {},
   "outputs": [],
   "source": [
    "a2.to_csv(\"prediction.csv\", index = False)"
   ]
  },
  {
   "cell_type": "markdown",
   "metadata": {},
   "source": [
    "data a2 dibuat menjadi file prediction.csv tanpa menampilkan indexnya."
   ]
  },
  {
   "cell_type": "markdown",
   "metadata": {},
   "source": [
    "Nama : M. Azhar Hamzah\n",
    "NIM  : 1301154142\n",
    "Kelas: IF 39 - 02"
   ]
  },
  {
   "cell_type": "code",
   "execution_count": null,
   "metadata": {
    "collapsed": true
   },
   "outputs": [],
   "source": []
  }
 ],
 "metadata": {
  "kernelspec": {
   "display_name": "Python 3",
   "language": "python",
   "name": "python3"
  },
  "language_info": {
   "codemirror_mode": {
    "name": "ipython",
    "version": 3
   },
   "file_extension": ".py",
   "mimetype": "text/x-python",
   "name": "python",
   "nbconvert_exporter": "python",
   "pygments_lexer": "ipython3",
   "version": "3.6.3"
  }
 },
 "nbformat": 4,
 "nbformat_minor": 2
}
